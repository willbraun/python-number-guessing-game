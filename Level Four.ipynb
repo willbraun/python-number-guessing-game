{
 "cells": [
  {
   "cell_type": "code",
   "execution_count": 35,
   "id": "03a77387",
   "metadata": {},
   "outputs": [
    {
     "name": "stdout",
     "output_type": "stream",
     "text": [
      "Enter 0 to guess the computer's number, enter 1 to choose a number for the computer to guess1\n",
      "Choose a number from 1 to 1000000500000\n",
      "Computer found the number 500000 in 1 moves\n"
     ]
    }
   ],
   "source": [
    "from random import randint\n",
    "from random import choice\n",
    "\n",
    "mode = int(input(\"Enter 0 to guess the computer's number, enter 1 to choose a number for the computer to guess\"))\n",
    "    \n",
    "if mode == 0:\n",
    "    computer = randint(1, 10)\n",
    "\n",
    "    for count in range(3):\n",
    "        player = int(input('Guess a number between 1 and 10'))\n",
    "        if player == computer:\n",
    "            print('Correct! The number is', player)\n",
    "            break\n",
    "        elif count == 2:\n",
    "            print(\"You lose. The computer's number was\",computer)\n",
    "        else:\n",
    "            print('Incorrect, guess again')\n",
    "    \n",
    "elif mode == 1:\n",
    "    high = 1000000\n",
    "    low = 1\n",
    "    player = int(input(f'Choose a number from {low} to {high}'))\n",
    "    computer = 0\n",
    "    count = 0\n",
    "    \n",
    "    if player < low or player > high:\n",
    "        raise Exception('Selected number is outside of the valid range')\n",
    "\n",
    "    while computer != player:\n",
    "        count += 1\n",
    "        computer = (high + low) // 2\n",
    "        if computer > player:\n",
    "            high = computer - 1\n",
    "        elif computer < player:\n",
    "            low = computer + 1\n",
    "        else:\n",
    "            print('Computer found the number',player,'in',count,'moves')\n",
    "    \n",
    "else:\n",
    "    raise Exception('Invalid choice')"
   ]
  }
 ],
 "metadata": {
  "kernelspec": {
   "display_name": "Python 3 (ipykernel)",
   "language": "python",
   "name": "python3"
  },
  "language_info": {
   "codemirror_mode": {
    "name": "ipython",
    "version": 3
   },
   "file_extension": ".py",
   "mimetype": "text/x-python",
   "name": "python",
   "nbconvert_exporter": "python",
   "pygments_lexer": "ipython3",
   "version": "3.8.9"
  }
 },
 "nbformat": 4,
 "nbformat_minor": 5
}
