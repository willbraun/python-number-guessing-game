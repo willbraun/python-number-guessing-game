{
 "cells": [
  {
   "cell_type": "code",
   "execution_count": 18,
   "id": "9aac14e6",
   "metadata": {},
   "outputs": [
    {
     "name": "stdout",
     "output_type": "stream",
     "text": [
      "Guess a number between 1 and 101\n",
      "Correct! The number is 1\n"
     ]
    }
   ],
   "source": [
    "from random import randint\n",
    "\n",
    "computer = randint(1, 10)\n",
    "\n",
    "for count in range(3):\n",
    "    player = int(input('Guess a number between 1 and 10'))\n",
    "    if player == computer:\n",
    "        print('Correct! The number is', player)\n",
    "        break\n",
    "    elif count == 2:\n",
    "        print('You lose.')\n",
    "    else:\n",
    "        print('Incorrect, guess again')\n",
    "    "
   ]
  }
 ],
 "metadata": {
  "kernelspec": {
   "display_name": "Python 3 (ipykernel)",
   "language": "python",
   "name": "python3"
  },
  "language_info": {
   "codemirror_mode": {
    "name": "ipython",
    "version": 3
   },
   "file_extension": ".py",
   "mimetype": "text/x-python",
   "name": "python",
   "nbconvert_exporter": "python",
   "pygments_lexer": "ipython3",
   "version": "3.8.9"
  }
 },
 "nbformat": 4,
 "nbformat_minor": 5
}
