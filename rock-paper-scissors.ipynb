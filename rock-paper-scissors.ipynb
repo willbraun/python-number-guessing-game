{
 "cells": [
  {
   "cell_type": "code",
   "execution_count": null,
   "id": "6b7bb4c1",
   "metadata": {},
   "outputs": [],
   "source": [
    "from random import randint\n",
    "\n",
    "moves = ['Rock', 'Paper', 'Scissors']\n",
    "\n",
    "play = True\n",
    "\n",
    "while play == True: \n",
    "    player = input('Rock, Paper, Scissors?')\n",
    "    \n",
    "    if player not in moves:\n",
    "        print(\"That's not a valid choice. Check your spelling.\")\n",
    "        continue\n",
    "    \n",
    "    computer = moves[randint(0, 2)]\n",
    "    \n",
    "    if player == computer: \n",
    "        print(\"Tie\")\n",
    "        continue\n",
    "    elif player == \"Rock\":\n",
    "        if computer == \"Scissors\":\n",
    "            print(\"You win!\", player, \"smashes\", computer)\n",
    "        else:\n",
    "            print(\"You lose!\", computer, \"covers\", player)\n",
    "    elif player == \"Paper\":\n",
    "        if computer == \"Rock\":\n",
    "            print(\"You win!\", player, \"covers\", computer)\n",
    "        else:\n",
    "            print(\"You lose!\", computer, \"cuts\", player)\n",
    "    elif player == \"Scissors\":\n",
    "        if computer == \"Paper\":\n",
    "            print(\"You win!\", player, \"cuts\", computer)\n",
    "        else:\n",
    "            print(\"You lose!\", computer, \"smashes\", player)\n",
    "        \n",
    "    play = False"
   ]
  }
 ],
 "metadata": {
  "kernelspec": {
   "display_name": "Python 3 (ipykernel)",
   "language": "python",
   "name": "python3"
  },
  "language_info": {
   "codemirror_mode": {
    "name": "ipython",
    "version": 3
   },
   "file_extension": ".py",
   "mimetype": "text/x-python",
   "name": "python",
   "nbconvert_exporter": "python",
   "pygments_lexer": "ipython3",
   "version": "3.8.9"
  }
 },
 "nbformat": 4,
 "nbformat_minor": 5
}
