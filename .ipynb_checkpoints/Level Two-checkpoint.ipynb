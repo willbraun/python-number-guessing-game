{
 "cells": [
  {
   "cell_type": "code",
   "execution_count": 3,
   "id": "33ce7dc6",
   "metadata": {
    "scrolled": true
   },
   "outputs": [
    {
     "name": "stdout",
     "output_type": "stream",
     "text": [
      "Pick a number from 1 to 107\n",
      "Computer guessed 1  Incorrect.\n",
      "Computer guessed 5  Incorrect.\n",
      "Computer guessed 6  Incorrect.\n"
     ]
    }
   ],
   "source": [
    "from random import choice\n",
    "\n",
    "player = int(input('Pick a number from 1 to 10: '))\n",
    "guesses = [i for i in range(1,11)]\n",
    "\n",
    "for count in range(3):\n",
    "    computer = choice(guesses)\n",
    "    if player == computer:\n",
    "        print('Computer guessed', computer,' Correct!')\n",
    "        break\n",
    "    else:\n",
    "        print('Computer guessed', computer,' Incorrect.')\n",
    "        guesses.remove(computer)\n",
    "        "
   ]
  }
 ],
 "metadata": {
  "kernelspec": {
   "display_name": "Python 3 (ipykernel)",
   "language": "python",
   "name": "python3"
  },
  "language_info": {
   "codemirror_mode": {
    "name": "ipython",
    "version": 3
   },
   "file_extension": ".py",
   "mimetype": "text/x-python",
   "name": "python",
   "nbconvert_exporter": "python",
   "pygments_lexer": "ipython3",
   "version": "3.8.9"
  }
 },
 "nbformat": 4,
 "nbformat_minor": 5
}
