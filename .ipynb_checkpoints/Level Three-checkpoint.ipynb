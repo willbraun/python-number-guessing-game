{
 "cells": [
  {
   "cell_type": "code",
   "execution_count": 20,
   "id": "ab3f4a81",
   "metadata": {},
   "outputs": [
    {
     "name": "stdout",
     "output_type": "stream",
     "text": [
      "Pick a number from 1 to 106\n",
      "Computer found the number 6 in 5 moves\n"
     ]
    }
   ],
   "source": [
    "from random import randint\n",
    "\n",
    "player = int(input('Pick a number from 1 to 10'))\n",
    "computer = 0\n",
    "high = 10\n",
    "low = 1\n",
    "count = 0\n",
    "\n",
    "while computer != player:\n",
    "    count += 1\n",
    "    computer = high + low // 2\n",
    "    if computer > player:\n",
    "        high = computer - 1\n",
    "    elif computer < player:\n",
    "        low = computer + 1\n",
    "    else:\n",
    "        print('Computer found the number',player,'in',count,'moves')\n",
    "        "
   ]
  }
 ],
 "metadata": {
  "kernelspec": {
   "display_name": "Python 3 (ipykernel)",
   "language": "python",
   "name": "python3"
  },
  "language_info": {
   "codemirror_mode": {
    "name": "ipython",
    "version": 3
   },
   "file_extension": ".py",
   "mimetype": "text/x-python",
   "name": "python",
   "nbconvert_exporter": "python",
   "pygments_lexer": "ipython3",
   "version": "3.8.9"
  }
 },
 "nbformat": 4,
 "nbformat_minor": 5
}
