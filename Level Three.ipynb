{
 "cells": [
  {
   "cell_type": "code",
   "execution_count": 3,
   "id": "23f244ce",
   "metadata": {},
   "outputs": [
    {
     "name": "stdout",
     "output_type": "stream",
     "text": [
      "Pick a number from 1 to 10: 2\n",
      "Computer found the number 2 in 2 moves\n"
     ]
    }
   ],
   "source": [
    "player = int(input('Pick a number from 1 to 10: '))\n",
    "computer = 0\n",
    "high = 10\n",
    "low = 1\n",
    "count = 0\n",
    "\n",
    "while computer != player:\n",
    "    count += 1\n",
    "    computer = (high + low) // 2\n",
    "    if computer > player:\n",
    "        high = computer - 1\n",
    "    elif computer < player:\n",
    "        low = computer + 1\n",
    "    else:\n",
    "        print('Computer found the number',player,'in',count,'moves')\n",
    "        "
   ]
  }
 ],
 "metadata": {
  "kernelspec": {
   "display_name": "Python 3 (ipykernel)",
   "language": "python",
   "name": "python3"
  },
  "language_info": {
   "codemirror_mode": {
    "name": "ipython",
    "version": 3
   },
   "file_extension": ".py",
   "mimetype": "text/x-python",
   "name": "python",
   "nbconvert_exporter": "python",
   "pygments_lexer": "ipython3",
   "version": "3.8.9"
  }
 },
 "nbformat": 4,
 "nbformat_minor": 5
}
